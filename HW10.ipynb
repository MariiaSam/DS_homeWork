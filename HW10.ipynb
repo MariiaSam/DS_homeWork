{
  "nbformat": 4,
  "nbformat_minor": 0,
  "metadata": {
    "colab": {
      "provenance": [],
      "authorship_tag": "ABX9TyPa8jPs5r0g7jLLLnJlLs8f"
    },
    "kernelspec": {
      "name": "python3",
      "display_name": "Python 3"
    },
    "language_info": {
      "name": "python"
    }
  },
  "cells": [
    {
      "cell_type": "markdown",
      "source": [
        "https://surprise.readthedocs.io/en/stable/getting_started.html\n",
        "\n",
        "https://surprise.readthedocs.io/en/stable/basic_algorithms.html\n",
        "\n",
        "https://github.com/NicolasHug/Surprise/tree/2381fb11d0c4bf917cc4b9126f205d0013649966\n",
        "\n",
        "https://github.com/NicolasHug/Surprise/tree/2381fb11d0c4bf917cc4b9126f205d0013649966/examples"
      ],
      "metadata": {
        "id": "IodtwZK-4J1Y"
      }
    },
    {
      "cell_type": "code",
      "source": [
        "! pip install numpy\n",
        "! pip install scikit-surprise"
      ],
      "metadata": {
        "colab": {
          "base_uri": "https://localhost:8080/"
        },
        "id": "H4dRRsARezsl",
        "outputId": "7d4f1c92-6bd3-4c80-8c3c-728a1baba848"
      },
      "execution_count": 56,
      "outputs": [
        {
          "output_type": "stream",
          "name": "stdout",
          "text": [
            "Requirement already satisfied: numpy in /usr/local/lib/python3.10/dist-packages (1.26.4)\n",
            "Requirement already satisfied: scikit-surprise in /usr/local/lib/python3.10/dist-packages (1.1.4)\n",
            "Requirement already satisfied: joblib>=1.2.0 in /usr/local/lib/python3.10/dist-packages (from scikit-surprise) (1.4.2)\n",
            "Requirement already satisfied: numpy>=1.19.5 in /usr/local/lib/python3.10/dist-packages (from scikit-surprise) (1.26.4)\n",
            "Requirement already satisfied: scipy>=1.6.0 in /usr/local/lib/python3.10/dist-packages (from scikit-surprise) (1.13.1)\n"
          ]
        }
      ]
    },
    {
      "cell_type": "code",
      "execution_count": 57,
      "metadata": {
        "id": "aXt25FbMeJ40"
      },
      "outputs": [],
      "source": [
        "from surprise import accuracy, Dataset, SVD, SVDpp, NMF\n",
        "from surprise.model_selection import cross_validate, train_test_split, GridSearchCV"
      ]
    },
    {
      "cell_type": "code",
      "source": [
        "# Load the movielens-100k dataset (download it if needed).\n",
        "data = Dataset.load_builtin('ml-100k')\n",
        "\n",
        "# Use the famous SVD algorithm.\n",
        "model_SVD = SVD()\n",
        "\n",
        "# Run 5-fold cross-validation and print results.\n",
        "cross_validate(model_SVD, data, measures=['RMSE', 'MAE'], cv=5, verbose=True)"
      ],
      "metadata": {
        "colab": {
          "base_uri": "https://localhost:8080/"
        },
        "id": "j0T-ROtrfbiy",
        "outputId": "24090a1e-d9e6-4db0-deb0-aee56aa1b031"
      },
      "execution_count": 58,
      "outputs": [
        {
          "output_type": "stream",
          "name": "stdout",
          "text": [
            "Evaluating RMSE, MAE of algorithm SVD on 5 split(s).\n",
            "\n",
            "                  Fold 1  Fold 2  Fold 3  Fold 4  Fold 5  Mean    Std     \n",
            "RMSE (testset)    0.9308  0.9340  0.9352  0.9350  0.9421  0.9354  0.0037  \n",
            "MAE (testset)     0.7336  0.7359  0.7390  0.7374  0.7408  0.7374  0.0025  \n",
            "Fit time          3.42    3.15    2.24    1.89    2.28    2.60    0.58    \n",
            "Test time         0.22    0.65    0.13    0.25    0.15    0.28    0.19    \n"
          ]
        },
        {
          "output_type": "execute_result",
          "data": {
            "text/plain": [
              "{'test_rmse': array([0.93081157, 0.9340415 , 0.9351977 , 0.93500448, 0.94212583]),\n",
              " 'test_mae': array([0.73357518, 0.73589333, 0.73904525, 0.73743836, 0.74080164]),\n",
              " 'fit_time': (3.4230008125305176,\n",
              "  3.1472465991973877,\n",
              "  2.2414731979370117,\n",
              "  1.8938419818878174,\n",
              "  2.2799010276794434),\n",
              " 'test_time': (0.22007966041564941,\n",
              "  0.6451282501220703,\n",
              "  0.12758898735046387,\n",
              "  0.24619269371032715,\n",
              "  0.1454019546508789)}"
            ]
          },
          "metadata": {},
          "execution_count": 58
        }
      ]
    },
    {
      "cell_type": "code",
      "source": [
        "# sample random trainset and testset\n",
        "# test set is made of 25% of the ratings.\n",
        "trainset, testset = train_test_split(data, test_size=0.25)\n",
        "\n",
        "# We'll use the famous SVD algorithm.\n",
        "algo = SVD()\n",
        "\n",
        "# Train the algorithm on the trainset, and predict ratings for the testset\n",
        "algo.fit(trainset)\n",
        "predictions = algo.test(testset)\n",
        "\n",
        "# Then compute RMSE\n",
        "accuracy.rmse(predictions)"
      ],
      "metadata": {
        "colab": {
          "base_uri": "https://localhost:8080/"
        },
        "id": "i2Yal0k8l29K",
        "outputId": "db9efb29-5e09-4d8d-c36d-6e911167b036"
      },
      "execution_count": 59,
      "outputs": [
        {
          "output_type": "stream",
          "name": "stdout",
          "text": [
            "RMSE: 0.9386\n"
          ]
        },
        {
          "output_type": "execute_result",
          "data": {
            "text/plain": [
              "0.9385927935440772"
            ]
          },
          "metadata": {},
          "execution_count": 59
        }
      ]
    },
    {
      "cell_type": "code",
      "source": [
        "param_grid = {\"n_epochs\": [5, 10], \"lr_all\": [0.002, 0.005], \"reg_all\": [0.4, 0.6]}\n"
      ],
      "metadata": {
        "id": "wdFAUZaHvgcs"
      },
      "execution_count": 60,
      "outputs": []
    },
    {
      "cell_type": "code",
      "source": [
        "gs = GridSearchCV(SVD, param_grid, measures=[\"rmse\", \"mae\"], cv=3)\n",
        "gs.fit(data)"
      ],
      "metadata": {
        "id": "stbFK7KYpd4M"
      },
      "execution_count": 61,
      "outputs": []
    },
    {
      "cell_type": "code",
      "source": [
        "# combination of parameters that gave the best params, RMSE score, MAE score\n",
        "print('Best params:', gs.best_params)\n",
        "print(\"Best RMSE:\", gs.best_score['rmse'])\n",
        "print(\"Best MAE:\", gs.best_score['mae'])"
      ],
      "metadata": {
        "colab": {
          "base_uri": "https://localhost:8080/"
        },
        "id": "ZKocknDz2_cE",
        "outputId": "9b5271a9-c9e1-4f4d-bda9-d6ad6a197496"
      },
      "execution_count": 62,
      "outputs": [
        {
          "output_type": "stream",
          "name": "stdout",
          "text": [
            "Best params: {'rmse': {'n_epochs': 10, 'lr_all': 0.005, 'reg_all': 0.4}, 'mae': {'n_epochs': 10, 'lr_all': 0.005, 'reg_all': 0.4}}\n",
            "Best RMSE: 0.9643229590232348\n",
            "Best MAE: 0.7727637841189673\n"
          ]
        }
      ]
    },
    {
      "cell_type": "code",
      "source": [
        "gs_svdpp = GridSearchCV(SVDpp, param_grid, measures=[\"rmse\", \"mae\"], cv=3)\n",
        "gs_svdpp.fit(data)\n"
      ],
      "metadata": {
        "id": "cqvGpHTosejP"
      },
      "execution_count": 63,
      "outputs": []
    },
    {
      "cell_type": "code",
      "source": [
        "print('Best params:', gs_svdpp.best_params)\n",
        "print(\"Best RMSE:\", gs_svdpp.best_score['rmse'])\n",
        "print(\"Best MAE:\", gs_svdpp.best_score['mae'])\n"
      ],
      "metadata": {
        "colab": {
          "base_uri": "https://localhost:8080/"
        },
        "id": "4uoeRLRk3Dr0",
        "outputId": "4ce921ae-966b-4b4d-c053-6dad5b9bb6ef"
      },
      "execution_count": 64,
      "outputs": [
        {
          "output_type": "stream",
          "name": "stdout",
          "text": [
            "Best params: {'rmse': {'n_epochs': 10, 'lr_all': 0.005, 'reg_all': 0.4}, 'mae': {'n_epochs': 10, 'lr_all': 0.005, 'reg_all': 0.4}}\n",
            "Best RMSE: 0.9637390712338404\n",
            "Best MAE: 0.7726027941236756\n"
          ]
        }
      ]
    },
    {
      "cell_type": "code",
      "source": [
        "param_nmf = {'n_factors': [5, 10], 'n_epochs': [10, 15], 'reg_pu': [0.02, 0.1], 'reg_qi': [0.02, 0.1]}\n"
      ],
      "metadata": {
        "id": "Uz_Pxnwazj4w"
      },
      "execution_count": 65,
      "outputs": []
    },
    {
      "cell_type": "code",
      "source": [
        "gs_nmf = GridSearchCV(NMF, param_nmf, measures=['rmse', 'mae'], cv=3)\n",
        "gs_nmf.fit(data)"
      ],
      "metadata": {
        "id": "UghaRk2J0a8n"
      },
      "execution_count": 66,
      "outputs": []
    },
    {
      "cell_type": "code",
      "source": [
        "print('Best params:', gs_nmf.best_params)\n",
        "print(\"Best RMSE:\", gs_nmf.best_score['rmse'])\n",
        "print(\"Best MAE:\", gs_nmf.best_score['mae'])\n"
      ],
      "metadata": {
        "colab": {
          "base_uri": "https://localhost:8080/"
        },
        "id": "_xmuzFcq2U2T",
        "outputId": "1b2d1884-5f90-4557-a065-eed0f29e4b82"
      },
      "execution_count": 67,
      "outputs": [
        {
          "output_type": "stream",
          "name": "stdout",
          "text": [
            "Best params: {'rmse': {'n_factors': 10, 'n_epochs': 15, 'reg_pu': 0.1, 'reg_qi': 0.1}, 'mae': {'n_factors': 10, 'n_epochs': 15, 'reg_pu': 0.1, 'reg_qi': 0.1}}\n",
            "Best RMSE: 0.9857737960411184\n",
            "Best MAE: 0.764654415351862\n"
          ]
        }
      ]
    },
    {
      "cell_type": "markdown",
      "source": [
        "***The SVD method showed better results than SVD++ and NMF***"
      ],
      "metadata": {
        "id": "ang3Flaq3srr"
      }
    }
  ]
}