{
  "nbformat": 4,
  "nbformat_minor": 0,
  "metadata": {
    "colab": {
      "provenance": [],
      "authorship_tag": "ABX9TyPZogXD0YexhoDxlu299j9I"
    },
    "kernelspec": {
      "name": "python3",
      "display_name": "Python 3"
    },
    "language_info": {
      "name": "python"
    }
  },
  "cells": [
    {
      "cell_type": "code",
      "source": [
        "import spacy\n",
        "import nltk\n",
        "from nltk.corpus import stopwords\n",
        "from nltk.tokenize import word_tokenize, sent_tokenize\n",
        "from string import punctuation\n",
        "from heapq import nlargest\n",
        "\n",
        "nlp = spacy.load('en_core_web_sm')\n",
        "\n",
        "nltk.download('punkt')\n",
        "nltk.download('stopwords')"
      ],
      "metadata": {
        "colab": {
          "base_uri": "https://localhost:8080/"
        },
        "id": "LdG9ji0CBIQM",
        "outputId": "3f81f7a6-0479-4c2d-eb13-f72e48000c13"
      },
      "execution_count": 17,
      "outputs": [
        {
          "output_type": "stream",
          "name": "stderr",
          "text": [
            "[nltk_data] Downloading package punkt to /root/nltk_data...\n",
            "[nltk_data]   Package punkt is already up-to-date!\n",
            "[nltk_data] Downloading package stopwords to /root/nltk_data...\n",
            "[nltk_data]   Package stopwords is already up-to-date!\n"
          ]
        },
        {
          "output_type": "execute_result",
          "data": {
            "text/plain": [
              "True"
            ]
          },
          "metadata": {},
          "execution_count": 17
        }
      ]
    },
    {
      "cell_type": "code",
      "source": [
        "text = \"The Orbiter Discovery, OV-103, is considered eligible for listing in the National Register of Historic Places (NRHP) in the context of the U.S. Space Shuttle Program (1969-2011) under Criterion A in the areas of Space Exploration and Transportation and under Criterion C in the area of Engineering. Because it has achieved significance within the past fifty years, Criteria Consideration G applies. Under Criterion A, Discovery is significant as the oldest of the three extant orbiter vehicles constructed for the Space Shuttle Program (SSP), the longest running American space program to date; she was the third of five orbiters built by NASA. Unlike the Mercury, Gemini, and Apollo programs, the SSP’s emphasis was on cost effectiveness and reusability, and eventually the construction of a space station. Including her maiden voyage (launched August 30, 1984), Discovery flew to space thirty-nine times, more than any of the other four orbiters; she was also the first orbiter to fly twenty missions. She had the honor of being chosen as the Return to Flight vehicle after both the Challenger and Columbia accidents. Discovery was the first shuttle to fly with the redesigned SRBs, a result of the Challenger accident, and the first shuttle to fly with the Phase II and Block I SSME. Discovery also carried the Hubble Space Telescope to orbit and performed two of the five servicing missions to the observatory. She flew the first and last dedicated Department of Defense (DoD) missions, as well as the first unclassified defense-related mission. In addition, Discovery was vital to the construction of the International Space Station (ISS); she flew thirteen of the thirty-seven total missions flown to the station by a U.S. Space Shuttle. She was the first orbiter to dock to the ISS, and the first to perform an exchange of a resident crew. Under Criterion C, Discovery is significant as a feat of engineering. According to Wayne Hale, a flight director from Johnson Space Center, the Space Shuttle orbiter represents a “huge technological leap from expendable rockets and capsules to a reusable, winged, hypersonic, cargo-carrying spacecraft.” Although her base structure followed a conventional aircraft design, she used advanced materials that both minimized her weight for cargo-carrying purposes and featured low thermal expansion ratios, which provided a stable base for her Thermal Protection System (TPS) materials. The Space Shuttle orbiter also featured the first reusable TPS; all previous spaceflight vehicles had a single-use, ablative heat shield. Other notable engineering achievements of the orbiter included the first reusable orbital propulsion system, and the first two-fault-tolerant Integrated Avionics System. As Hale stated, the Space Shuttle remains “the largest, fastest, winged hypersonic aircraft in history,” having regularly flown at twenty-five times the speed of sound.\"\n",
        "punctuation = punctuation + '\\n'\n",
        "\n",
        "sentences = sent_tokenize(text)\n",
        "doc = nlp(text)\n",
        "\n",
        "stop_words = set(stopwords.words('english'))\n",
        "filtered_tokens = [token.lemma_.lower() for token in doc if token.is_alpha and token.lemma_.lower() not in stop_words and token.text not in punctuation]\n",
        "print(filtered_tokens)"
      ],
      "metadata": {
        "colab": {
          "base_uri": "https://localhost:8080/"
        },
        "id": "og-afx0yCovJ",
        "outputId": "45dfe687-b643-4944-b6f8-3aadd60d491e"
      },
      "execution_count": 18,
      "outputs": [
        {
          "output_type": "stream",
          "name": "stdout",
          "text": [
            "['orbiter', 'discovery', 'consider', 'eligible', 'list', 'national', 'register', 'historic', 'places', 'nrhp', 'context', 'space', 'shuttle', 'program', 'criterion', 'area', 'space', 'exploration', 'transportation', 'criterion', 'c', 'area', 'engineering', 'achieve', 'significance', 'within', 'past', 'fifty', 'year', 'criteria', 'consideration', 'g', 'apply', 'criterion', 'discovery', 'significant', 'old', 'three', 'extant', 'orbiter', 'vehicle', 'construct', 'space', 'shuttle', 'program', 'ssp', 'long', 'run', 'american', 'space', 'program', 'date', 'third', 'five', 'orbiter', 'build', 'nasa', 'unlike', 'mercury', 'gemini', 'apollo', 'program', 'ssp', 'emphasis', 'cost', 'effectiveness', 'reusability', 'eventually', 'construction', 'space', 'station', 'include', 'maiden', 'voyage', 'launch', 'august', 'discovery', 'fly', 'space', 'thirty', 'nine', 'time', 'four', 'orbiter', 'also', 'first', 'orbiter', 'fly', 'twenty', 'mission', 'honor', 'choose', 'return', 'flight', 'vehicle', 'challenger', 'columbia', 'accident', 'discovery', 'first', 'shuttle', 'fly', 'redesign', 'srb', 'result', 'challenger', 'accident', 'first', 'shuttle', 'fly', 'phase', 'ii', 'block', 'ssme', 'discovery', 'also', 'carry', 'hubble', 'space', 'telescope', 'orbit', 'perform', 'two', 'five', 'servicing', 'mission', 'observatory', 'fly', 'first', 'last', 'dedicated', 'department', 'defense', 'dod', 'mission', 'well', 'first', 'unclassified', 'defense', 'relate', 'mission', 'addition', 'discovery', 'vital', 'construction', 'international', 'space', 'station', 'iss', 'fly', 'thirteen', 'thirty', 'seven', 'total', 'mission', 'fly', 'station', 'space', 'shuttle', 'first', 'orbiter', 'dock', 'iss', 'first', 'perform', 'exchange', 'resident', 'crew', 'criterion', 'c', 'discovery', 'significant', 'feat', 'engineering', 'accord', 'wayne', 'hale', 'flight', 'director', 'johnson', 'space', 'center', 'space', 'shuttle', 'orbiter', 'represent', 'huge', 'technological', 'leap', 'expendable', 'rocket', 'capsule', 'reusable', 'wing', 'hypersonic', 'cargo', 'carry', 'spacecraft', 'although', 'base', 'structure', 'follow', 'conventional', 'aircraft', 'design', 'use', 'advanced', 'material', 'minimize', 'weight', 'cargo', 'carry', 'purpose', 'feature', 'low', 'thermal', 'expansion', 'ratio', 'provide', 'stable', 'base', 'thermal', 'protection', 'system', 'tps', 'material', 'space', 'shuttle', 'orbiter', 'also', 'feature', 'first', 'reusable', 'tps', 'previous', 'spaceflight', 'vehicle', 'single', 'use', 'ablative', 'heat', 'shield', 'notable', 'engineering', 'achievement', 'orbiter', 'include', 'first', 'reusable', 'orbital', 'propulsion', 'system', 'first', 'two', 'fault', 'tolerant', 'integrated', 'avionics', 'system', 'hale', 'state', 'space', 'shuttle', 'remain', 'large', 'fast', 'wing', 'hypersonic', 'aircraft', 'history', 'regularly', 'fly', 'twenty', 'five', 'time', 'speed', 'sound']\n"
          ]
        }
      ]
    },
    {
      "cell_type": "code",
      "source": [
        "from pprint import pprint\n",
        "\n",
        "select_length = len(sentences) // 4\n",
        "word_frequencies = {}\n",
        "for word in filtered_tokens:\n",
        "    if word not in word_frequencies:\n",
        "        word_frequencies[word] = 1\n",
        "    else:\n",
        "        word_frequencies[word] += 1\n",
        "\n",
        "maximum_frequency = max(word_frequencies.values())\n",
        "for word in word_frequencies.keys():\n",
        "    word_frequencies[word] = (word_frequencies[word]/maximum_frequency)\n",
        "\n",
        "sentence_scores = {}\n",
        "for sentence in sentences:\n",
        "    for word in word_tokenize(sentence.lower()):\n",
        "        if word in word_frequencies.keys():\n",
        "            if len(sentence.split(' ')) < 25:\n",
        "                if sentence not in sentence_scores.keys():\n",
        "                    sentence_scores[sentence] = word_frequencies[word]\n",
        "                else:\n",
        "                    sentence_scores[sentence] += word_frequencies[word]\n",
        "\n",
        "summary_sentences = nlargest(select_length, sentence_scores, key=sentence_scores.get)\n",
        "summary = ' '.join(summary_sentences)\n",
        "\n",
        "pprint(summary)"
      ],
      "metadata": {
        "colab": {
          "base_uri": "https://localhost:8080/"
        },
        "id": "Q8Rw0B0-DJ32",
        "outputId": "0db1831a-1ce2-4c27-dce3-08f09ab23c33"
      },
      "execution_count": 20,
      "outputs": [
        {
          "output_type": "stream",
          "name": "stdout",
          "text": [
            "('The Space Shuttle orbiter also featured the first reusable TPS; all previous '\n",
            " 'spaceflight vehicles had a single-use, ablative heat shield. Other notable '\n",
            " 'engineering achievements of the orbiter included the first reusable orbital '\n",
            " 'propulsion system, and the first two-fault-tolerant Integrated Avionics '\n",
            " 'System. She was the first orbiter to dock to the ISS, and the first to '\n",
            " 'perform an exchange of a resident crew. Discovery also carried the Hubble '\n",
            " 'Space Telescope to orbit and performed two of the five servicing missions to '\n",
            " 'the observatory.')\n"
          ]
        }
      ]
    }
  ]
}